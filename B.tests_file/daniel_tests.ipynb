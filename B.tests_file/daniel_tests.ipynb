{
 "cells": [
  {
   "cell_type": "code",
   "execution_count": 163,
   "outputs": [],
   "source": [
    "from seleniumwire import webdriver\n",
    "from selenium.webdriver.chrome.service import Service\n",
    "from webdriver_manager.chrome import ChromeDriverManager\n",
    "from selenium.webdriver.common.by import By\n",
    "import pandas as pd"
   ],
   "metadata": {
    "collapsed": false
   }
  },
  {
   "cell_type": "markdown",
   "source": [
    "booking scraping"
   ],
   "metadata": {
    "collapsed": false
   }
  },
  {
   "cell_type": "code",
   "execution_count": 169,
   "metadata": {
    "collapsed": true
   },
   "outputs": [
    {
     "name": "stdout",
     "output_type": "stream",
     "text": [
      "total pages: 16\n"
     ]
    }
   ],
   "source": [
    "driver = webdriver.Chrome(service = Service(ChromeDriverManager().install()))\n",
    "url = \"https://www.booking.com/searchresults.html?label=gen173nr-1FCAEoggI46AdIM1gEaGqIAQGYATG4AQfIAQzYAQHoAQH4AQKIAgGoAgO4AvPwoJ4GwAIB0gIkOGI1MDNiMjMtZjBlNy00N2VjLThkZDktNWE0YTlkY2IxZThl2AIF4AIB&lang=en-us&sid=5573c0abed369f2f95eb17806f9d3aac&sb=1&sb_lp=1&src=index&src_elem=sb&error_url=https%3A%2F%2Fwww.booking.com%2Findex.html%3Flabel%3Dgen173nr-1FCAEoggI46AdIM1gEaGqIAQGYATG4AQfIAQzYAQHoAQH4AQKIAgGoAgO4AvPwoJ4GwAIB0gIkOGI1MDNiMjMtZjBlNy00N2VjLThkZDktNWE0YTlkY2IxZThl2AIF4AIB%26sid%3D5573c0abed369f2f95eb17806f9d3aac%26sb_price_type%3Dtotal%26%26&ss=New+York&is_ski_area=0&ssne=New+York&ssne_untouched=New+York&dest_id=20088325&dest_type=city&checkin_year=2023&checkin_month=1&checkin_monthday=18&checkout_year=2023&checkout_month=1&checkout_monthday=19&group_adults=2&group_children=0&no_rooms=1&b_h4u_keep_filters=&from_sf=1\"\n",
    "driver.get(url)\n",
    "\n",
    "properties = []\n",
    "\n",
    "def extract_propeties():\n",
    "    property_cards = driver.find_elements(By.CSS_SELECTOR,'div[data-testid = \"property-card\"]')\n",
    "    new_property = {}\n",
    "    for prop in property_cards:\n",
    "        name = prop.find_element(By.CSS_SELECTOR, 'div[data-testid=\"title\"]').text\n",
    "        #link = prop.find_element(By.CSS_SELECTOR, 'a[data-testid=\"title-link\"]').get_attribute('href')\n",
    "        review_score, _, review_count = prop.find_element(By.CSS_SELECTOR, '[data-testid=\"review-score\"]').text.split('\\n')\n",
    "        price = prop.find_element(By.CSS_SELECTOR, '[data-testid=\"price-and-discounted-price\"]').text\n",
    "\n",
    "\n",
    "        new_property['name'] = name\n",
    "        #new_property['link'] = link\n",
    "        new_property['review_score'] = review_score\n",
    "        new_property['review_count'] = review_count\n",
    "        new_property['price'] = price\n",
    "        properties.append(new_property)\n",
    "\n",
    "total_pages = int(driver.find_element(By.CSS_SELECTOR,'div[data-testid=\"pagination\"]  li:last-child').text)\n",
    "print(f\"total pages: {total_pages}\")\n",
    "\n",
    "for current_page in range(2):\n",
    "    del driver.requests\n",
    "    extract_propeties()\n",
    "    next_page_btn = driver.find_element(By.XPATH,'//button[contains(@aria-label,\"Next page\")]')\n",
    "    next_page_btn.click()\n",
    "    driver.wait_for_request(\"/dml/graphql\",timeout=5)"
   ]
  },
  {
   "cell_type": "code",
   "execution_count": 190,
   "outputs": [
    {
     "ename": "NoSuchElementException",
     "evalue": "Message: no such element: Unable to locate element: {\"method\":\"css selector\",\"selector\":\".uitk-heading uitk-heading-6 overflow-wrap\"}\n  (Session info: chrome=109.0.5414.87)\nStacktrace:\n0   chromedriver                        0x0000000100605fa8 chromedriver + 4886440\n1   chromedriver                        0x0000000100583643 chromedriver + 4351555\n2   chromedriver                        0x00000001001d1b27 chromedriver + 477991\n3   chromedriver                        0x000000010021676c chromedriver + 759660\n4   chromedriver                        0x00000001002169c1 chromedriver + 760257\n5   chromedriver                        0x0000000100208506 chromedriver + 701702\n6   chromedriver                        0x000000010023c5fd chromedriver + 914941\n7   chromedriver                        0x00000001002083dd chromedriver + 701405\n8   chromedriver                        0x000000010023c78e chromedriver + 915342\n9   chromedriver                        0x00000001002575fe chromedriver + 1025534\n10  chromedriver                        0x000000010023c3a3 chromedriver + 914339\n11  chromedriver                        0x000000010020657f chromedriver + 693631\n12  chromedriver                        0x0000000100207b1e chromedriver + 699166\n13  chromedriver                        0x00000001005d2b9e chromedriver + 4676510\n14  chromedriver                        0x00000001005d791e chromedriver + 4696350\n15  chromedriver                        0x00000001005df19f chromedriver + 4727199\n16  chromedriver                        0x00000001005d881a chromedriver + 4700186\n17  chromedriver                        0x00000001005aba62 chromedriver + 4516450\n18  chromedriver                        0x00000001005f78c8 chromedriver + 4827336\n19  chromedriver                        0x00000001005f7a45 chromedriver + 4827717\n20  chromedriver                        0x000000010060d7ef chromedriver + 4917231\n21  libsystem_pthread.dylib             0x00007ff815ab5259 _pthread_start + 125\n22  libsystem_pthread.dylib             0x00007ff815ab0c7b thread_start + 15\n",
     "output_type": "error",
     "traceback": [
      "\u001B[0;31m---------------------------------------------------------------------------\u001B[0m",
      "\u001B[0;31mNoSuchElementException\u001B[0m                    Traceback (most recent call last)",
      "Cell \u001B[0;32mIn[190], line 17\u001B[0m\n\u001B[1;32m     13\u001B[0m         new_property[\u001B[38;5;124m'\u001B[39m\u001B[38;5;124mname\u001B[39m\u001B[38;5;124m'\u001B[39m] \u001B[38;5;241m=\u001B[39m name\n\u001B[1;32m     15\u001B[0m         properties_2\u001B[38;5;241m.\u001B[39mappend(new_property)\n\u001B[0;32m---> 17\u001B[0m \u001B[43mextract_propeties_2\u001B[49m\u001B[43m(\u001B[49m\u001B[43m)\u001B[49m\n",
      "Cell \u001B[0;32mIn[190], line 11\u001B[0m, in \u001B[0;36mextract_propeties_2\u001B[0;34m()\u001B[0m\n\u001B[1;32m      9\u001B[0m new_property \u001B[38;5;241m=\u001B[39m {}\n\u001B[1;32m     10\u001B[0m \u001B[38;5;28;01mfor\u001B[39;00m prop \u001B[38;5;129;01min\u001B[39;00m property_cards:\n\u001B[0;32m---> 11\u001B[0m     name \u001B[38;5;241m=\u001B[39m \u001B[43mprop\u001B[49m\u001B[38;5;241;43m.\u001B[39;49m\u001B[43mfind_element\u001B[49m\u001B[43m(\u001B[49m\u001B[43mBy\u001B[49m\u001B[38;5;241;43m.\u001B[39;49m\u001B[43mCLASS_NAME\u001B[49m\u001B[43m,\u001B[49m\u001B[38;5;124;43m'\u001B[39;49m\u001B[38;5;124;43muitk-heading uitk-heading-6 overflow-wrap\u001B[39;49m\u001B[38;5;124;43m'\u001B[39;49m\u001B[43m)\u001B[49m\u001B[38;5;241m.\u001B[39mtext\n\u001B[1;32m     12\u001B[0m     \u001B[38;5;28mprint\u001B[39m(name)\n\u001B[1;32m     13\u001B[0m     new_property[\u001B[38;5;124m'\u001B[39m\u001B[38;5;124mname\u001B[39m\u001B[38;5;124m'\u001B[39m] \u001B[38;5;241m=\u001B[39m name\n",
      "File \u001B[0;32m/Library/Frameworks/Python.framework/Versions/3.11/lib/python3.11/site-packages/selenium/webdriver/remote/webelement.py:433\u001B[0m, in \u001B[0;36mWebElement.find_element\u001B[0;34m(self, by, value)\u001B[0m\n\u001B[1;32m    430\u001B[0m     by \u001B[38;5;241m=\u001B[39m By\u001B[38;5;241m.\u001B[39mCSS_SELECTOR\n\u001B[1;32m    431\u001B[0m     value \u001B[38;5;241m=\u001B[39m \u001B[38;5;124m'\u001B[39m\u001B[38;5;124m[name=\u001B[39m\u001B[38;5;124m\"\u001B[39m\u001B[38;5;132;01m%s\u001B[39;00m\u001B[38;5;124m\"\u001B[39m\u001B[38;5;124m]\u001B[39m\u001B[38;5;124m'\u001B[39m \u001B[38;5;241m%\u001B[39m value\n\u001B[0;32m--> 433\u001B[0m \u001B[38;5;28;01mreturn\u001B[39;00m \u001B[38;5;28;43mself\u001B[39;49m\u001B[38;5;241;43m.\u001B[39;49m\u001B[43m_execute\u001B[49m\u001B[43m(\u001B[49m\u001B[43mCommand\u001B[49m\u001B[38;5;241;43m.\u001B[39;49m\u001B[43mFIND_CHILD_ELEMENT\u001B[49m\u001B[43m,\u001B[49m\u001B[43m \u001B[49m\u001B[43m{\u001B[49m\u001B[38;5;124;43m\"\u001B[39;49m\u001B[38;5;124;43musing\u001B[39;49m\u001B[38;5;124;43m\"\u001B[39;49m\u001B[43m:\u001B[49m\u001B[43m \u001B[49m\u001B[43mby\u001B[49m\u001B[43m,\u001B[49m\u001B[43m \u001B[49m\u001B[38;5;124;43m\"\u001B[39;49m\u001B[38;5;124;43mvalue\u001B[39;49m\u001B[38;5;124;43m\"\u001B[39;49m\u001B[43m:\u001B[49m\u001B[43m \u001B[49m\u001B[43mvalue\u001B[49m\u001B[43m}\u001B[49m\u001B[43m)\u001B[49m[\u001B[38;5;124m\"\u001B[39m\u001B[38;5;124mvalue\u001B[39m\u001B[38;5;124m\"\u001B[39m]\n",
      "File \u001B[0;32m/Library/Frameworks/Python.framework/Versions/3.11/lib/python3.11/site-packages/selenium/webdriver/remote/webelement.py:410\u001B[0m, in \u001B[0;36mWebElement._execute\u001B[0;34m(self, command, params)\u001B[0m\n\u001B[1;32m    408\u001B[0m     params \u001B[38;5;241m=\u001B[39m {}\n\u001B[1;32m    409\u001B[0m params[\u001B[38;5;124m\"\u001B[39m\u001B[38;5;124mid\u001B[39m\u001B[38;5;124m\"\u001B[39m] \u001B[38;5;241m=\u001B[39m \u001B[38;5;28mself\u001B[39m\u001B[38;5;241m.\u001B[39m_id\n\u001B[0;32m--> 410\u001B[0m \u001B[38;5;28;01mreturn\u001B[39;00m \u001B[38;5;28;43mself\u001B[39;49m\u001B[38;5;241;43m.\u001B[39;49m\u001B[43m_parent\u001B[49m\u001B[38;5;241;43m.\u001B[39;49m\u001B[43mexecute\u001B[49m\u001B[43m(\u001B[49m\u001B[43mcommand\u001B[49m\u001B[43m,\u001B[49m\u001B[43m \u001B[49m\u001B[43mparams\u001B[49m\u001B[43m)\u001B[49m\n",
      "File \u001B[0;32m/Library/Frameworks/Python.framework/Versions/3.11/lib/python3.11/site-packages/selenium/webdriver/remote/webdriver.py:444\u001B[0m, in \u001B[0;36mWebDriver.execute\u001B[0;34m(self, driver_command, params)\u001B[0m\n\u001B[1;32m    442\u001B[0m response \u001B[38;5;241m=\u001B[39m \u001B[38;5;28mself\u001B[39m\u001B[38;5;241m.\u001B[39mcommand_executor\u001B[38;5;241m.\u001B[39mexecute(driver_command, params)\n\u001B[1;32m    443\u001B[0m \u001B[38;5;28;01mif\u001B[39;00m response:\n\u001B[0;32m--> 444\u001B[0m     \u001B[38;5;28;43mself\u001B[39;49m\u001B[38;5;241;43m.\u001B[39;49m\u001B[43merror_handler\u001B[49m\u001B[38;5;241;43m.\u001B[39;49m\u001B[43mcheck_response\u001B[49m\u001B[43m(\u001B[49m\u001B[43mresponse\u001B[49m\u001B[43m)\u001B[49m\n\u001B[1;32m    445\u001B[0m     response[\u001B[38;5;124m\"\u001B[39m\u001B[38;5;124mvalue\u001B[39m\u001B[38;5;124m\"\u001B[39m] \u001B[38;5;241m=\u001B[39m \u001B[38;5;28mself\u001B[39m\u001B[38;5;241m.\u001B[39m_unwrap_value(response\u001B[38;5;241m.\u001B[39mget(\u001B[38;5;124m\"\u001B[39m\u001B[38;5;124mvalue\u001B[39m\u001B[38;5;124m\"\u001B[39m, \u001B[38;5;28;01mNone\u001B[39;00m))\n\u001B[1;32m    446\u001B[0m     \u001B[38;5;28;01mreturn\u001B[39;00m response\n",
      "File \u001B[0;32m/Library/Frameworks/Python.framework/Versions/3.11/lib/python3.11/site-packages/selenium/webdriver/remote/errorhandler.py:249\u001B[0m, in \u001B[0;36mErrorHandler.check_response\u001B[0;34m(self, response)\u001B[0m\n\u001B[1;32m    247\u001B[0m         alert_text \u001B[38;5;241m=\u001B[39m value[\u001B[38;5;124m\"\u001B[39m\u001B[38;5;124malert\u001B[39m\u001B[38;5;124m\"\u001B[39m]\u001B[38;5;241m.\u001B[39mget(\u001B[38;5;124m\"\u001B[39m\u001B[38;5;124mtext\u001B[39m\u001B[38;5;124m\"\u001B[39m)\n\u001B[1;32m    248\u001B[0m     \u001B[38;5;28;01mraise\u001B[39;00m exception_class(message, screen, stacktrace, alert_text)  \u001B[38;5;66;03m# type: ignore[call-arg]  # mypy is not smart enough here\u001B[39;00m\n\u001B[0;32m--> 249\u001B[0m \u001B[38;5;28;01mraise\u001B[39;00m exception_class(message, screen, stacktrace)\n",
      "\u001B[0;31mNoSuchElementException\u001B[0m: Message: no such element: Unable to locate element: {\"method\":\"css selector\",\"selector\":\".uitk-heading uitk-heading-6 overflow-wrap\"}\n  (Session info: chrome=109.0.5414.87)\nStacktrace:\n0   chromedriver                        0x0000000100605fa8 chromedriver + 4886440\n1   chromedriver                        0x0000000100583643 chromedriver + 4351555\n2   chromedriver                        0x00000001001d1b27 chromedriver + 477991\n3   chromedriver                        0x000000010021676c chromedriver + 759660\n4   chromedriver                        0x00000001002169c1 chromedriver + 760257\n5   chromedriver                        0x0000000100208506 chromedriver + 701702\n6   chromedriver                        0x000000010023c5fd chromedriver + 914941\n7   chromedriver                        0x00000001002083dd chromedriver + 701405\n8   chromedriver                        0x000000010023c78e chromedriver + 915342\n9   chromedriver                        0x00000001002575fe chromedriver + 1025534\n10  chromedriver                        0x000000010023c3a3 chromedriver + 914339\n11  chromedriver                        0x000000010020657f chromedriver + 693631\n12  chromedriver                        0x0000000100207b1e chromedriver + 699166\n13  chromedriver                        0x00000001005d2b9e chromedriver + 4676510\n14  chromedriver                        0x00000001005d791e chromedriver + 4696350\n15  chromedriver                        0x00000001005df19f chromedriver + 4727199\n16  chromedriver                        0x00000001005d881a chromedriver + 4700186\n17  chromedriver                        0x00000001005aba62 chromedriver + 4516450\n18  chromedriver                        0x00000001005f78c8 chromedriver + 4827336\n19  chromedriver                        0x00000001005f7a45 chromedriver + 4827717\n20  chromedriver                        0x000000010060d7ef chromedriver + 4917231\n21  libsystem_pthread.dylib             0x00007ff815ab5259 _pthread_start + 125\n22  libsystem_pthread.dylib             0x00007ff815ab0c7b thread_start + 15\n"
     ]
    }
   ],
   "source": [
    "driver_2 = webdriver.Chrome(service = Service(ChromeDriverManager().install()))\n",
    "url = \"https://euro.expedia.net/Hotel-Search?adults=2&d1=2023-02-01&d2=2023-02-02&destination=New%20York%2C%20New%20York%2C%20United%20States%20of%20America&endDate=2023-02-02&latLong=40.712843%2C-74.005966&regionId=2621&rooms=1&semdtl=&sort=RECOMMENDED&startDate=2023-02-01&theme=&useRewards=false&userIntent=\"\n",
    "driver_2.get(url)\n",
    "\n",
    "properties_2 = []\n",
    "\n",
    "def extract_propeties_2():\n",
    "    property_cards = driver_2.find_elements(By.XPATH,'.//*[@class=\"uitk-card uitk-card-roundcorner-all uitk-card-has-primary-theme\"]')\n",
    "    new_property = {}\n",
    "    for prop in property_cards:\n",
    "        name = prop.find_element(By.CLASS_NAME,'uitk-heading uitk-heading-6 overflow-wrap').text\n",
    "        print(name)\n",
    "        new_property['name'] = name\n",
    "\n",
    "        properties_2.append(new_property)\n",
    "\n",
    "extract_propeties_2()\n"
   ],
   "metadata": {
    "collapsed": false
   }
  },
  {
   "cell_type": "code",
   "execution_count": 1,
   "outputs": [
    {
     "ename": "RuntimeError",
     "evalue": "asyncio.run() cannot be called from a running event loop",
     "output_type": "error",
     "traceback": [
      "\u001B[0;31m---------------------------------------------------------------------------\u001B[0m",
      "\u001B[0;31mRuntimeError\u001B[0m                              Traceback (most recent call last)",
      "Cell \u001B[0;32mIn[1], line 276\u001B[0m\n\u001B[1;32m    272\u001B[0m         \u001B[38;5;28;01mreturn\u001B[39;00m result_search, result_hotels, result_reviews\n\u001B[1;32m    275\u001B[0m \u001B[38;5;28;01mif\u001B[39;00m \u001B[38;5;18m__name__\u001B[39m \u001B[38;5;241m==\u001B[39m \u001B[38;5;124m\"\u001B[39m\u001B[38;5;124m__main__\u001B[39m\u001B[38;5;124m\"\u001B[39m:\n\u001B[0;32m--> 276\u001B[0m     \u001B[43masyncio\u001B[49m\u001B[38;5;241;43m.\u001B[39;49m\u001B[43mrun\u001B[49m\u001B[43m(\u001B[49m\u001B[43mrun\u001B[49m\u001B[43m(\u001B[49m\u001B[43m)\u001B[49m\u001B[43m)\u001B[49m\n",
      "File \u001B[0;32m/Library/Frameworks/Python.framework/Versions/3.11/lib/python3.11/asyncio/runners.py:186\u001B[0m, in \u001B[0;36mrun\u001B[0;34m(main, debug)\u001B[0m\n\u001B[1;32m    161\u001B[0m \u001B[38;5;124;03m\"\"\"Execute the coroutine and return the result.\u001B[39;00m\n\u001B[1;32m    162\u001B[0m \n\u001B[1;32m    163\u001B[0m \u001B[38;5;124;03mThis function runs the passed coroutine, taking care of\u001B[39;00m\n\u001B[0;32m   (...)\u001B[0m\n\u001B[1;32m    182\u001B[0m \u001B[38;5;124;03m    asyncio.run(main())\u001B[39;00m\n\u001B[1;32m    183\u001B[0m \u001B[38;5;124;03m\"\"\"\u001B[39;00m\n\u001B[1;32m    184\u001B[0m \u001B[38;5;28;01mif\u001B[39;00m events\u001B[38;5;241m.\u001B[39m_get_running_loop() \u001B[38;5;129;01mis\u001B[39;00m \u001B[38;5;129;01mnot\u001B[39;00m \u001B[38;5;28;01mNone\u001B[39;00m:\n\u001B[1;32m    185\u001B[0m     \u001B[38;5;66;03m# fail fast with short traceback\u001B[39;00m\n\u001B[0;32m--> 186\u001B[0m     \u001B[38;5;28;01mraise\u001B[39;00m \u001B[38;5;167;01mRuntimeError\u001B[39;00m(\n\u001B[1;32m    187\u001B[0m         \u001B[38;5;124m\"\u001B[39m\u001B[38;5;124masyncio.run() cannot be called from a running event loop\u001B[39m\u001B[38;5;124m\"\u001B[39m)\n\u001B[1;32m    189\u001B[0m \u001B[38;5;28;01mwith\u001B[39;00m Runner(debug\u001B[38;5;241m=\u001B[39mdebug) \u001B[38;5;28;01mas\u001B[39;00m runner:\n\u001B[1;32m    190\u001B[0m     \u001B[38;5;28;01mreturn\u001B[39;00m runner\u001B[38;5;241m.\u001B[39mrun(main)\n",
      "\u001B[0;31mRuntimeError\u001B[0m: asyncio.run() cannot be called from a running event loop"
     ]
    }
   ],
   "source": [],
   "metadata": {
    "collapsed": false
   }
  }
 ],
 "metadata": {
  "kernelspec": {
   "display_name": "Python 3",
   "language": "python",
   "name": "python3"
  },
  "language_info": {
   "codemirror_mode": {
    "name": "ipython",
    "version": 2
   },
   "file_extension": ".py",
   "mimetype": "text/x-python",
   "name": "python",
   "nbconvert_exporter": "python",
   "pygments_lexer": "ipython2",
   "version": "2.7.6"
  }
 },
 "nbformat": 4,
 "nbformat_minor": 0
}
